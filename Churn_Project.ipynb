{
 "cells": [
  {
   "cell_type": "code",
   "execution_count": 1,
   "id": "9bcea658-e7e2-4c09-a28b-3ac04cac866b",
   "metadata": {},
   "outputs": [
    {
     "name": "stdout",
     "output_type": "stream",
     "text": [
      "              precision    recall  f1-score   support\n",
      "\n",
      "           0       0.81      1.00      0.90        81\n",
      "           1       0.00      0.00      0.00        19\n",
      "\n",
      "    accuracy                           0.81       100\n",
      "   macro avg       0.41      0.50      0.45       100\n",
      "weighted avg       0.66      0.81      0.72       100\n",
      "\n",
      "ROC AUC: 0.5207927225471085\n",
      "Retraining complete. Model and scaler saved as 'model.pkl' and 'scaler.pkl'.\n"
     ]
    }
   ],
   "source": [
    "import pandas as pd\n",
    "import numpy as np\n",
    "from sklearn.model_selection import train_test_split\n",
    "from sklearn.preprocessing import LabelEncoder, StandardScaler\n",
    "from sklearn.ensemble import RandomForestClassifier\n",
    "from sklearn.metrics import classification_report, roc_auc_score\n",
    "import joblib\n",
    "\n",
    "# Create example data (replace this with your real dataset loading if you have one)\n",
    "data_dict = {\n",
    "    \"Customer_Age\": np.random.randint(21, 70, 500),\n",
    "    \"Gender\": np.random.choice([\"M\", \"F\"], 500),\n",
    "    \"Income_Category\": np.random.choice([\"Low\", \"Medium\", \"High\"], 500),\n",
    "    \"Credit_Limit\": np.random.uniform(1000, 15000, 500),\n",
    "    \"Avg_Utilization_Ratio\": np.random.uniform(0, 1, 500),\n",
    "    \"Total_Trans_Ct\": np.random.randint(1, 120, 500),\n",
    "    \"Months_on_book\": np.random.randint(1, 60, 500),\n",
    "    \"Churn\": np.random.choice([0, 1], 500, p=[0.8, 0.2])  # 20% churn rate\n",
    "}\n",
    "\n",
    "data = pd.DataFrame(data_dict)\n",
    "\n",
    "# Encode categorical columns\n",
    "categorical_cols = [\"Gender\", \"Income_Category\"]\n",
    "le = LabelEncoder()\n",
    "for col in categorical_cols:\n",
    "    data[col] = le.fit_transform(data[col])\n",
    "\n",
    "# Prepare features and target\n",
    "X = data.drop(\"Churn\", axis=1)\n",
    "y = data[\"Churn\"]\n",
    "\n",
    "# Scale features\n",
    "scaler = StandardScaler()\n",
    "X_scaled = scaler.fit_transform(X)\n",
    "\n",
    "# Split data\n",
    "X_train, X_test, y_train, y_test = train_test_split(X_scaled, y, test_size=0.2, random_state=42)\n",
    "\n",
    "# Train RandomForest with balanced class weights\n",
    "model = RandomForestClassifier(n_estimators=100, random_state=42, class_weight='balanced')\n",
    "model.fit(X_train, y_train)\n",
    "\n",
    "# Evaluate\n",
    "y_pred = model.predict(X_test)\n",
    "print(classification_report(y_test, y_pred, zero_division=0))\n",
    "print(\"ROC AUC:\", roc_auc_score(y_test, model.predict_proba(X_test)[:, 1]))\n",
    "\n",
    "# Save the model and scaler (overwrites old files)\n",
    "joblib.dump(model, \"model.pkl\")\n",
    "joblib.dump(scaler, \"scaler.pkl\")\n",
    "\n",
    "print(\"Retraining complete. Model and scaler saved as 'model.pkl' and 'scaler.pkl'.\")"
   ]
  },
  {
   "cell_type": "code",
   "execution_count": null,
   "id": "da9c3028-c3f5-4b83-88c0-d7c402af668d",
   "metadata": {},
   "outputs": [],
   "source": []
  }
 ],
 "metadata": {
  "kernelspec": {
   "display_name": "Python 3 (ipykernel)",
   "language": "python",
   "name": "python3"
  },
  "language_info": {
   "codemirror_mode": {
    "name": "ipython",
    "version": 3
   },
   "file_extension": ".py",
   "mimetype": "text/x-python",
   "name": "python",
   "nbconvert_exporter": "python",
   "pygments_lexer": "ipython3",
   "version": "3.11.5"
  }
 },
 "nbformat": 4,
 "nbformat_minor": 5
}
